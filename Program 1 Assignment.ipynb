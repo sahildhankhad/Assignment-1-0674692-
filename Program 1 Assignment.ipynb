{
 "cells": [
  {
   "cell_type": "markdown",
   "metadata": {},
   "source": [
    "Assignment_1 program:-1"
   ]
  },
  {
   "cell_type": "code",
   "execution_count": 32,
   "metadata": {},
   "outputs": [
    {
     "name": "stdout",
     "output_type": "stream",
     "text": [
      "\n",
      " Hello Professor! My name is Sahil Dhankhad!This is First Program in python \n",
      "2\n",
      "The largest number is 3\n",
      "[2, 2, 3]\n"
     ]
    }
   ],
   "source": [
    "#my First code in the Python and Did some more work\n",
    "\n",
    "txt='My name is Sahil Dhankhad!'\n",
    "txt2=\"This is First Program in python \"\n",
    "print('\\n Hello Professor! '+txt+txt2)\n",
    "list1=[2,2,3]\n",
    "print(list1[0])\n",
    "#The largest number of list is\n",
    "b=max(list1)\n",
    "print(\"The largest number is \"    +str(b))\n",
    "print(list1)\n",
    "\n"
   ]
  },
  {
   "cell_type": "code",
   "execution_count": 31,
   "metadata": {},
   "outputs": [
    {
     "name": "stdout",
     "output_type": "stream",
     "text": [
      "[2, 4, 3]\n",
      "4\n",
      "[2, 4, 3]\n"
     ]
    }
   ],
   "source": [
    "#I replaced the 2 interger in list1 with 4 and print it\n",
    "list1[1]=4\n",
    "print(list1[1])\n",
    "print(list1)"
   ]
  },
  {
   "cell_type": "markdown",
   "metadata": {},
   "source": [
    "#So, now you can see 2 number in our list is changed and now it is 4"
   ]
  },
  {
   "cell_type": "code",
   "execution_count": 29,
   "metadata": {},
   "outputs": [
    {
     "name": "stdout",
     "output_type": "stream",
     "text": [
      "4\n"
     ]
    }
   ],
   "source": [
    "# now i will try to put some negtive number \n",
    "print(list1[-2])"
   ]
  },
  {
   "cell_type": "code",
   "execution_count": null,
   "metadata": {
    "collapsed": true
   },
   "outputs": [],
   "source": []
  }
 ],
 "metadata": {
  "kernelspec": {
   "display_name": "Python 2",
   "language": "python",
   "name": "python2"
  },
  "language_info": {
   "codemirror_mode": {
    "name": "ipython",
    "version": 2
   },
   "file_extension": ".py",
   "mimetype": "text/x-python",
   "name": "python",
   "nbconvert_exporter": "python",
   "pygments_lexer": "ipython2",
   "version": "2.7.13"
  }
 },
 "nbformat": 4,
 "nbformat_minor": 2
}
